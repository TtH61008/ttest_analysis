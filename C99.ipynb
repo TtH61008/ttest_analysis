{
 "cells": [
  {
   "cell_type": "markdown",
   "metadata": {
    "executionInfo": {
     "elapsed": 14406,
     "status": "ok",
     "timestamp": 1632637971332,
     "user": {
      "displayName": "M I",
      "photoUrl": "https://lh3.googleusercontent.com/a-/AOh14Gjf2P7NqnnDxbSlDyx1B2ibhWHV7IKbmdvRA4dOFA=s64",
      "userId": "13599803303708223691"
     },
     "user_tz": -540
    },
    "id": "kqRmnUNwIUav",
    "outputId": "585e1458-70d0-48da-fe5a-3be1595782a4"
   },
   "source": [
    "# Usage\n",
    "\n",
    "python>=3.7対応、本書ではpython3.8で動作確認をしている\n",
    "```bash\n",
    "# Ubuntuでの環境用意の例\n",
    "$ sudo apt-get install python3.8 jupyter-notebook\n",
    "$ python3.8 -m pip install --upgrade pip setuptools\n",
    "$ python3.8 -m pip install numpy==1.19.5 scipy==1.4.1 matplotlib==3.2.2 jupyter\n",
    "$ python3.8 -m jupyter notebook\n",
    "```\n"
   ]
  },
  {
   "cell_type": "code",
   "execution_count": 1,
   "metadata": {
    "id": "ZHdPXVhgwrlQ"
   },
   "outputs": [],
   "source": [
    "import scipy.stats \n",
    "import numpy as np\n",
    "import matplotlib.pyplot as plt\n",
    "import itertools\n",
    "from dataclasses import dataclass"
   ]
  },
  {
   "cell_type": "code",
   "execution_count": 2,
   "metadata": {
    "colab": {
     "base_uri": "https://localhost:8080/",
     "height": 36
    },
    "executionInfo": {
     "elapsed": 535,
     "status": "ok",
     "timestamp": 1635913819794,
     "user": {
      "displayName": "M I",
      "photoUrl": "https://lh3.googleusercontent.com/a-/AOh14Gjf2P7NqnnDxbSlDyx1B2ibhWHV7IKbmdvRA4dOFA=s64",
      "userId": "13599803303708223691"
     },
     "user_tz": -540
    },
    "id": "CkrskPapwtm_",
    "outputId": "4bf38012-7fce-4a52-a247-e50ada875aa3"
   },
   "outputs": [
    {
     "data": {
      "text/plain": [
       "'1.4.1'"
      ]
     },
     "execution_count": 2,
     "metadata": {},
     "output_type": "execute_result"
    }
   ],
   "source": [
    "import scipy\n",
    "scipy.__version__"
   ]
  },
  {
   "cell_type": "code",
   "execution_count": 3,
   "metadata": {
    "colab": {
     "base_uri": "https://localhost:8080/",
     "height": 36
    },
    "executionInfo": {
     "elapsed": 33,
     "status": "ok",
     "timestamp": 1635913819796,
     "user": {
      "displayName": "M I",
      "photoUrl": "https://lh3.googleusercontent.com/a-/AOh14Gjf2P7NqnnDxbSlDyx1B2ibhWHV7IKbmdvRA4dOFA=s64",
      "userId": "13599803303708223691"
     },
     "user_tz": -540
    },
    "id": "nqbmfmu4GnBH",
    "outputId": "5e3f7c78-1043-4856-95d6-6811f1f4ea3a"
   },
   "outputs": [
    {
     "data": {
      "text/plain": [
       "'1.19.5'"
      ]
     },
     "execution_count": 3,
     "metadata": {},
     "output_type": "execute_result"
    }
   ],
   "source": [
    "np.__version__"
   ]
  },
  {
   "cell_type": "code",
   "execution_count": 4,
   "metadata": {
    "colab": {
     "base_uri": "https://localhost:8080/",
     "height": 36
    },
    "executionInfo": {
     "elapsed": 28,
     "status": "ok",
     "timestamp": 1635913819798,
     "user": {
      "displayName": "M I",
      "photoUrl": "https://lh3.googleusercontent.com/a-/AOh14Gjf2P7NqnnDxbSlDyx1B2ibhWHV7IKbmdvRA4dOFA=s64",
      "userId": "13599803303708223691"
     },
     "user_tz": -540
    },
    "id": "aGHRnYf8GqBp",
    "outputId": "68975fce-7d82-4c14-8a3e-df4199983979"
   },
   "outputs": [
    {
     "data": {
      "text/plain": [
       "'3.2.2'"
      ]
     },
     "execution_count": 4,
     "metadata": {},
     "output_type": "execute_result"
    }
   ],
   "source": [
    "import matplotlib\n",
    "matplotlib.__version__"
   ]
  },
  {
   "cell_type": "markdown",
   "metadata": {
    "id": "AMtY37Hb0dZn"
   },
   "source": [
    "# 2. 等分散の仮定\n",
    "- 何はともあれWelchのt検定を使うべき"
   ]
  },
  {
   "cell_type": "markdown",
   "metadata": {
    "id": "AjcxYOt93xIF"
   },
   "source": [
    "## 2.2 不等分散がstudentのt検定に与える影響のシミュレーション"
   ]
  },
  {
   "cell_type": "code",
   "execution_count": 5,
   "metadata": {
    "colab": {
     "base_uri": "https://localhost:8080/"
    },
    "executionInfo": {
     "elapsed": 29505,
     "status": "ok",
     "timestamp": 1635913849278,
     "user": {
      "displayName": "M I",
      "photoUrl": "https://lh3.googleusercontent.com/a-/AOh14Gjf2P7NqnnDxbSlDyx1B2ibhWHV7IKbmdvRA4dOFA=s64",
      "userId": "13599803303708223691"
     },
     "user_tz": -540
    },
    "id": "HYoUfBmPAXGp",
    "outputId": "dc230c68-239b-475d-ab23-8324d17b7ee8"
   },
   "outputs": [
    {
     "name": "stdout",
     "output_type": "stream",
     "text": [
      "偽陽性率:  0.04961\n"
     ]
    }
   ],
   "source": [
    "\n",
    "# 各群が等分散 / 独立同分布 / 群の平均値の分布が正規分布, 各種の仮定が満たされている\n",
    "# 帰無仮説のもとで、p < 0.05の検定での偽陽性率を見る\n",
    "# p値の定義から、有意水準 p < X の時の偽陽性率はXに一致するはず\n",
    "\n",
    "np.random.seed(seed=0)\n",
    "\n",
    "\n",
    "test_results = [\n",
    "  scipy.stats.ttest_ind(\n",
    "      np.random.normal(loc=5, scale=1, size=10), \n",
    "      np.random.normal(loc=5, scale=1, size=10), \n",
    "      equal_var=True\n",
    "      ).pvalue\n",
    "  for _ in range(100000)\n",
    "  ]\n",
    "\n",
    "print(\"偽陽性率: \", len([p for p in test_results if p < 0.05]) / len(test_results))\n"
   ]
  },
  {
   "cell_type": "code",
   "execution_count": 6,
   "metadata": {
    "colab": {
     "base_uri": "https://localhost:8080/"
    },
    "executionInfo": {
     "elapsed": 30343,
     "status": "ok",
     "timestamp": 1635913879614,
     "user": {
      "displayName": "M I",
      "photoUrl": "https://lh3.googleusercontent.com/a-/AOh14Gjf2P7NqnnDxbSlDyx1B2ibhWHV7IKbmdvRA4dOFA=s64",
      "userId": "13599803303708223691"
     },
     "user_tz": -540
    },
    "id": "3cFVD0NrXtJ0",
    "outputId": "0dbe00a9-82f7-4b55-9f17-f5bf3fba38de"
   },
   "outputs": [
    {
     "name": "stdout",
     "output_type": "stream",
     "text": [
      "偽陽性率:  0.06412\n"
     ]
    }
   ],
   "source": [
    "\n",
    "# 等分散の仮定を外してstudentのt検定をしてしまった場合\n",
    "# p<0.05の偽陽性率\n",
    "\n",
    "np.random.seed(seed=0)\n",
    "\n",
    "\n",
    "test_results = [\n",
    "  scipy.stats.ttest_ind(\n",
    "      np.random.normal(loc=5, scale=1, size=10), \n",
    "      np.random.normal(loc=5, scale=100, size=10), \n",
    "      equal_var=True\n",
    "      ).pvalue\n",
    "  for _ in range(100000)\n",
    "  ]\n",
    "\n",
    "print(\"偽陽性率: \", len([p for p in test_results if p < 0.05]) / len(test_results))\n"
   ]
  },
  {
   "cell_type": "code",
   "execution_count": 7,
   "metadata": {
    "colab": {
     "base_uri": "https://localhost:8080/",
     "height": 265
    },
    "executionInfo": {
     "elapsed": 29594,
     "status": "ok",
     "timestamp": 1635913909175,
     "user": {
      "displayName": "M I",
      "photoUrl": "https://lh3.googleusercontent.com/a-/AOh14Gjf2P7NqnnDxbSlDyx1B2ibhWHV7IKbmdvRA4dOFA=s64",
      "userId": "13599803303708223691"
     },
     "user_tz": -540
    },
    "id": "73amhWOsC75D",
    "outputId": "2ea6a761-6b89-469a-ffdc-dcca4ccb1722"
   },
   "outputs": [
    {
     "data": {
      "image/png": "[encoded data removed]",
      "text/plain": [
       "<Figure size 432x288 with 1 Axes>"
      ]
     },
     "metadata": {
      "needs_background": "light"
     },
     "output_type": "display_data"
    }
   ],
   "source": [
    "\n",
    "# 各種の仮定が満たされている\n",
    "# 帰無仮説のもとでのt統計量\n",
    "\n",
    "np.random.seed(0)\n",
    "\n",
    "\n",
    "test_results = [\n",
    "  scipy.stats.ttest_ind(\n",
    "      np.random.normal(loc=5, scale=1, size=10), \n",
    "      np.random.normal(loc=5, scale=1, size=10), \n",
    "      equal_var=True\n",
    "      ).statistic\n",
    "  for _ in range(100000)\n",
    "  ]\n",
    "\n",
    "test_stat_mean = np.mean(test_results)\n",
    "test_stat_std = np.std(test_results)\n",
    "X_min = test_stat_mean - test_stat_std * 5\n",
    "X_max = test_stat_mean + test_stat_std * 5\n",
    "\n",
    "plt.hist(test_results, bins=100, range=(X_min, X_max), density=True, color=\"silver\")\n",
    "\n",
    "X = np.arange(X_min, X_max, 0.001)\n",
    "Y = scipy.stats.t.pdf(X, df=(10+10-2))\n",
    "plt.plot(X, Y, color=\"black\")\n",
    "\n",
    "plt.xlim([X_min, X_max])\n",
    "plt.show()\n"
   ]
  },
  {
   "cell_type": "code",
   "execution_count": 8,
   "metadata": {
    "colab": {
     "base_uri": "https://localhost:8080/",
     "height": 265
    },
    "executionInfo": {
     "elapsed": 30033,
     "status": "ok",
     "timestamp": 1635913939199,
     "user": {
      "displayName": "M I",
      "photoUrl": "https://lh3.googleusercontent.com/a-/AOh14Gjf2P7NqnnDxbSlDyx1B2ibhWHV7IKbmdvRA4dOFA=s64",
      "userId": "13599803303708223691"
     },
     "user_tz": -540
    },
    "id": "zZqXfYPWC37O",
    "outputId": "92692e6a-51ae-4abb-f68c-3150df54acd8"
   },
   "outputs": [
    {
     "data": {
      "image/png": "[encoded data removed]",
      "text/plain": [
       "<Figure size 432x288 with 1 Axes>"
      ]
     },
     "metadata": {
      "needs_background": "light"
     },
     "output_type": "display_data"
    }
   ],
   "source": [
    "\n",
    "# 等分散の仮定を外してstudentのt検定をしてしまった場合\n",
    "# 帰無仮説のもとでのt統計量\n",
    "\n",
    "np.random.seed(0)\n",
    "\n",
    "\n",
    "test_results = [\n",
    "  scipy.stats.ttest_ind(\n",
    "      np.random.normal(loc=5, scale=1, size=10), \n",
    "      np.random.normal(loc=5, scale=100, size=10), \n",
    "      equal_var=True\n",
    "      ).statistic\n",
    "  for _ in range(100000)\n",
    "  ]\n",
    "\n",
    "test_stat_mean = np.mean(test_results)\n",
    "test_stat_std = np.std(test_results)\n",
    "X_min = test_stat_mean - test_stat_std * 5\n",
    "X_max = test_stat_mean + test_stat_std * 5\n",
    "\n",
    "plt.hist(test_results, bins=100, range=(X_min, X_max), density=True, color=\"silver\")\n",
    "\n",
    "X = np.arange(X_min, X_max, 0.001)\n",
    "Y = scipy.stats.t.pdf(X, df=(10+10-2))\n",
    "plt.plot(X, Y, color=\"black\")\n",
    "\n",
    "plt.xlim([X_min, X_max])\n",
    "plt.show()\n"
   ]
  },
  {
   "cell_type": "code",
   "execution_count": 9,
   "metadata": {
    "colab": {
     "base_uri": "https://localhost:8080/",
     "height": 265
    },
    "executionInfo": {
     "elapsed": 29828,
     "status": "ok",
     "timestamp": 1635913969012,
     "user": {
      "displayName": "M I",
      "photoUrl": "https://lh3.googleusercontent.com/a-/AOh14Gjf2P7NqnnDxbSlDyx1B2ibhWHV7IKbmdvRA4dOFA=s64",
      "userId": "13599803303708223691"
     },
     "user_tz": -540
    },
    "id": "GfZ__GGEXtJ3",
    "outputId": "7b06e4bd-98b0-4c3d-83c5-bae89f3a21d6"
   },
   "outputs": [
    {
     "data": {
      "image/png": "[encoded data removed]",
      "text/plain": [
       "<Figure size 432x288 with 1 Axes>"
      ]
     },
     "metadata": {
      "needs_background": "light"
     },
     "output_type": "display_data"
    }
   ],
   "source": [
    "# p値の分布で分析する\n",
    "# p値の定義から、帰無仮説のもとでサンプリングを行った場合、p値は一様分布になるはず\n",
    "# 各種仮定が満たされている場合\n",
    "\n",
    "np.random.seed(seed=0)\n",
    "\n",
    "\n",
    "test_results = [\n",
    "  scipy.stats.ttest_ind(\n",
    "      np.random.normal(loc=5, scale=1, size=10), \n",
    "      np.random.normal(loc=5, scale=1, size=10), \n",
    "      equal_var=True\n",
    "      ).pvalue\n",
    "  for _ in range(100000)\n",
    "  ]\n",
    "\n",
    "plt.hist(test_results, range=(0,1), bins=20, density=True, color=\"gray\")\n",
    "plt.show()\n"
   ]
  },
  {
   "cell_type": "code",
   "execution_count": 10,
   "metadata": {
    "colab": {
     "base_uri": "https://localhost:8080/",
     "height": 265
    },
    "executionInfo": {
     "elapsed": 30025,
     "status": "ok",
     "timestamp": 1635913999018,
     "user": {
      "displayName": "M I",
      "photoUrl": "https://lh3.googleusercontent.com/a-/AOh14Gjf2P7NqnnDxbSlDyx1B2ibhWHV7IKbmdvRA4dOFA=s64",
      "userId": "13599803303708223691"
     },
     "user_tz": -540
    },
    "id": "gPf85MJUxbmz",
    "outputId": "bc106c5f-b4c0-45b7-f866-719057c58553"
   },
   "outputs": [
    {
     "data": {
      "image/png": "[encoded data removed]",
      "text/plain": [
       "<Figure size 432x288 with 1 Axes>"
      ]
     },
     "metadata": {
      "needs_background": "light"
     },
     "output_type": "display_data"
    }
   ],
   "source": [
    "# 等分散性の仮定が満たされない場合\n",
    "# p値の分布\n",
    "\n",
    "np.random.seed(seed=0)\n",
    "\n",
    "\n",
    "test_results = [\n",
    "  scipy.stats.ttest_ind(\n",
    "      np.random.normal(loc=5, scale=1, size=10), \n",
    "      np.random.normal(loc=5, scale=100, size=10), \n",
    "      equal_var=True\n",
    "      ).pvalue\n",
    "  for _ in range(100000)\n",
    "  ]\n",
    "\n",
    "plt.hist(test_results, range=(0,1), bins=20, density=True, color=\"gray\")\n",
    "plt.show()\n"
   ]
  },
  {
   "cell_type": "markdown",
   "metadata": {
    "id": "4lfZApXH44ny"
   },
   "source": [
    "## 2.3 不等分散でも適用可能なWelchのt検定"
   ]
  },
  {
   "cell_type": "code",
   "execution_count": 11,
   "metadata": {
    "colab": {
     "base_uri": "https://localhost:8080/",
     "height": 283
    },
    "executionInfo": {
     "elapsed": 32052,
     "status": "ok",
     "timestamp": 1635914031049,
     "user": {
      "displayName": "M I",
      "photoUrl": "https://lh3.googleusercontent.com/a-/AOh14Gjf2P7NqnnDxbSlDyx1B2ibhWHV7IKbmdvRA4dOFA=s64",
      "userId": "13599803303708223691"
     },
     "user_tz": -540
    },
    "id": "DVWETNnhCHd2",
    "outputId": "925434af-e9aa-43f5-ca07-67549c694d77"
   },
   "outputs": [
    {
     "data": {
      "image/png": "[encoded data removed]",
      "text/plain": [
       "<Figure size 432x288 with 1 Axes>"
      ]
     },
     "metadata": {
      "needs_background": "light"
     },
     "output_type": "display_data"
    },
    {
     "name": "stdout",
     "output_type": "stream",
     "text": [
      "偽陽性率:  0.04973\n"
     ]
    }
   ],
   "source": [
    "\n",
    "# Welchのt検定を用いることで不等分散を補正する\n",
    "\n",
    "np.random.seed(seed=0)\n",
    "\n",
    "\n",
    "test_results = [\n",
    "  scipy.stats.ttest_ind(\n",
    "      np.random.normal(loc=5, scale=1, size=10), \n",
    "      np.random.normal(loc=5, scale=100, size=10), \n",
    "      equal_var=False\n",
    "      ).pvalue\n",
    "  for _ in range(100000)\n",
    "  ]\n",
    "\n",
    "plt.hist(test_results, range=(0,1), bins=20, density=True, color=\"gray\")\n",
    "plt.show()\n",
    "\n",
    "print(\"偽陽性率: \", len([p for p in test_results if p < 0.05]) / len(test_results))"
   ]
  },
  {
   "cell_type": "markdown",
   "metadata": {
    "id": "7xg5r8fO5QJX"
   },
   "source": [
    "## 2.5 Q. 等分散の状況でWelchではなくstudentのt検定を使うメリットはあるか？"
   ]
  },
  {
   "cell_type": "code",
   "execution_count": 12,
   "metadata": {
    "colab": {
     "base_uri": "https://localhost:8080/"
    },
    "executionInfo": {
     "elapsed": 29411,
     "status": "ok",
     "timestamp": 1635914060433,
     "user": {
      "displayName": "M I",
      "photoUrl": "https://lh3.googleusercontent.com/a-/AOh14Gjf2P7NqnnDxbSlDyx1B2ibhWHV7IKbmdvRA4dOFA=s64",
      "userId": "13599803303708223691"
     },
     "user_tz": -540
    },
    "id": "TU5GWL0uVrCG",
    "outputId": "6099a636-0e57-4cce-ecab-f26671cee3ad"
   },
   "outputs": [
    {
     "name": "stdout",
     "output_type": "stream",
     "text": [
      "検出力 0.56197\n"
     ]
    }
   ],
   "source": [
    "\n",
    "# Welchがstudentに比べて汎用性が高い代わりに、より厳しい仮定を置くstudentのt検定は検出力が高い？\n",
    "# studentのt検定\n",
    "\n",
    "np.random.seed(seed=0)\n",
    "\n",
    "\n",
    "test_results = [\n",
    "  scipy.stats.ttest_ind(\n",
    "      np.random.normal(loc=5, scale=1, size=10), \n",
    "      np.random.normal(loc=4, scale=1, size=10),\n",
    "      equal_var=True\n",
    "      ).pvalue\n",
    "  for _ in range(100000)\n",
    "  ]\n",
    "\n",
    "print(\"検出力\", len([t for t in test_results if t < 0.05]) / len(test_results))\n"
   ]
  },
  {
   "cell_type": "code",
   "execution_count": 13,
   "metadata": {
    "colab": {
     "base_uri": "https://localhost:8080/"
    },
    "executionInfo": {
     "elapsed": 32242,
     "status": "ok",
     "timestamp": 1635914092648,
     "user": {
      "displayName": "M I",
      "photoUrl": "https://lh3.googleusercontent.com/a-/AOh14Gjf2P7NqnnDxbSlDyx1B2ibhWHV7IKbmdvRA4dOFA=s64",
      "userId": "13599803303708223691"
     },
     "user_tz": -540
    },
    "id": "NFPkyQqvVFoh",
    "outputId": "b9d5e44f-389a-420a-e365-aee3a94e6325",
    "scrolled": true
   },
   "outputs": [
    {
     "name": "stdout",
     "output_type": "stream",
     "text": [
      "検出力 0.55645\n"
     ]
    }
   ],
   "source": [
    "\n",
    "# Welchのt検定の検出力\n",
    "\n",
    "np.random.seed(seed=0)\n",
    "\n",
    "\n",
    "test_results = [\n",
    "  scipy.stats.ttest_ind(\n",
    "      np.random.normal(loc=5, scale=1, size=10), \n",
    "      np.random.normal(loc=4, scale=1, size=10),\n",
    "      equal_var=False\n",
    "      ).pvalue\n",
    "  for _ in range(100000)\n",
    "  ]\n",
    "\n",
    "print(\"検出力\", len([t for t in test_results if t < 0.05]) / len(test_results))\n"
   ]
  },
  {
   "cell_type": "markdown",
   "metadata": {
    "id": "XkzqNyWZGe43"
   },
   "source": [
    "# 3. 平均値が正規分布に近似できない場合\n",
    "\n",
    "- パラメトリックブートストラップ検定とノンパラメトリックな検定、どちらも一長一短"
   ]
  },
  {
   "cell_type": "markdown",
   "metadata": {
    "id": "DADDoQQH5aa5"
   },
   "source": [
    "## 3.2 中心極限定理の適用に必要なサンプルサイズ"
   ]
  },
  {
   "cell_type": "code",
   "execution_count": 14,
   "metadata": {
    "id": "XP27_i2_aT86"
   },
   "outputs": [],
   "source": [
    "# 対数正規分布の平均値の分布可視化\n",
    "# サンプル数がどの程度集まれば中心極限定理が適用できるか？\n",
    "\n",
    "def lognormal_avg_hist(mean, sigma, size):\n",
    "  np.random.seed(seed=0)\n",
    "  \n",
    "  lognormal_avgs = [np.mean(np.random.lognormal(mean=mean, sigma=sigma, size=size)) for _ in range(10000)]\n",
    "  \n",
    "  lognormal_avgs_mean = np.mean(lognormal_avgs)\n",
    "  lognormal_avgs_std = np.std(lognormal_avgs)\n",
    "  X_min = lognormal_avgs_mean - lognormal_avgs_std * 5\n",
    "  X_max = lognormal_avgs_mean + lognormal_avgs_std * 5\n",
    "\n",
    "  plt.hist(lognormal_avgs, bins=100, range=(X_min, X_max), density=True, color=\"silver\")\n",
    "\n",
    "  X = np.arange(X_min, X_max, 0.001)\n",
    "  Y = scipy.stats.norm.pdf(X, lognormal_avgs_mean, lognormal_avgs_std)\n",
    "  plt.plot(X, Y, color=\"black\")\n",
    "  \n",
    "  plt.title(f\"n={size}\")\n",
    "  plt.show()\n",
    "\n"
   ]
  },
  {
   "cell_type": "code",
   "execution_count": 15,
   "metadata": {
    "colab": {
     "base_uri": "https://localhost:8080/",
     "height": 1000
    },
    "executionInfo": {
     "elapsed": 10757,
     "status": "ok",
     "timestamp": 1635914103400,
     "user": {
      "displayName": "M I",
      "photoUrl": "https://lh3.googleusercontent.com/a-/AOh14Gjf2P7NqnnDxbSlDyx1B2ibhWHV7IKbmdvRA4dOFA=s64",
      "userId": "13599803303708223691"
     },
     "user_tz": -540
    },
    "id": "ar0pFksIaNvb",
    "outputId": "7477a17a-ef20-491d-b302-e229d27f191a"
   },
   "outputs": [
    {
     "data": {
      "image/png": "[encoded data removed]",
      "text/plain": [
       "<Figure size 432x288 with 1 Axes>"
      ]
     },
     "metadata": {
      "needs_background": "light"
     },
     "output_type": "display_data"
    },
    {
     "data": {
      "image/png": "[encoded data removed]",
      "text/plain": [
       "<Figure size 432x288 with 1 Axes>"
      ]
     },
     "metadata": {
      "needs_background": "light"
     },
     "output_type": "display_data"
    },
    {
     "data": {
      "image/png": "[encoded data removed]",
      "text/plain": [
       "<Figure size 432x288 with 1 Axes>"
      ]
     },
     "metadata": {
      "needs_background": "light"
     },
     "output_type": "display_data"
    },
    {
     "data": {
      "image/png": "[encoded data removed]",
      "text/plain": [
       "<Figure size 432x288 with 1 Axes>"
      ]
     },
     "metadata": {
      "needs_background": "light"
     },
     "output_type": "display_data"
    },
    {
     "data": {
      "image/png": "[encoded data removed]",
      "text/plain": [
       "<Figure size 432x288 with 1 Axes>"
      ]
     },
     "metadata": {
      "needs_background": "light"
     },
     "output_type": "display_data"
    }
   ],
   "source": [
    "# 標準正規分布をexpに入れたときの対数正規分布の平均値の分布\n",
    "\n",
    "lognormal_avg_hist(0, 1, 10000)\n",
    "lognormal_avg_hist(0, 1, 1000)\n",
    "lognormal_avg_hist(0, 1, 100)\n",
    "lognormal_avg_hist(0, 1, 30)\n",
    "lognormal_avg_hist(0, 1, 10)"
   ]
  },
  {
   "cell_type": "code",
   "execution_count": 16,
   "metadata": {
    "colab": {
     "base_uri": "https://localhost:8080/",
     "height": 1000
    },
    "executionInfo": {
     "elapsed": 10659,
     "status": "ok",
     "timestamp": 1635914114039,
     "user": {
      "displayName": "M I",
      "photoUrl": "https://lh3.googleusercontent.com/a-/AOh14Gjf2P7NqnnDxbSlDyx1B2ibhWHV7IKbmdvRA4dOFA=s64",
      "userId": "13599803303708223691"
     },
     "user_tz": -540
    },
    "id": "1f_zBFsfLB4m",
    "outputId": "fc814eed-49db-4c32-b989-f6de62f77414"
   },
   "outputs": [
    {
     "data": {
      "image/png": "[encoded data removed]",
      "text/plain": [
       "<Figure size 432x288 with 1 Axes>"
      ]
     },
     "metadata": {
      "needs_background": "light"
     },
     "output_type": "display_data"
    },
    {
     "data": {
      "image/png": "[encoded data removed]",
      "text/plain": [
       "<Figure size 432x288 with 1 Axes>"
      ]
     },
     "metadata": {
      "needs_background": "light"
     },
     "output_type": "display_data"
    },
    {
     "data": {
      "image/png": "[encoded data removed]",
      "text/plain": [
       "<Figure size 432x288 with 1 Axes>"
      ]
     },
     "metadata": {
      "needs_background": "light"
     },
     "output_type": "display_data"
    },
    {
     "data": {
      "image/png": "[encoded data removed]",
      "text/plain": [
       "<Figure size 432x288 with 1 Axes>"
      ]
     },
     "metadata": {
      "needs_background": "light"
     },
     "output_type": "display_data"
    },
    {
     "data": {
      "image/png": "[encoded data removed]",
      "text/plain": [
       "<Figure size 432x288 with 1 Axes>"
      ]
     },
     "metadata": {
      "needs_background": "light"
     },
     "output_type": "display_data"
    }
   ],
   "source": [
    "# サンプリング元の正規分布の分散を半分にすると\n",
    "\n",
    "lognormal_avg_hist(0, 0.5, 10000)\n",
    "lognormal_avg_hist(0, 0.5, 1000)\n",
    "lognormal_avg_hist(0, 0.5, 100)\n",
    "lognormal_avg_hist(0, 0.5, 30)\n",
    "lognormal_avg_hist(0, 0.5, 10)"
   ]
  },
  {
   "cell_type": "markdown",
   "metadata": {
    "id": "wkVxsejk56ZS"
   },
   "source": [
    "## 3.3 正規性が満たされないサンプルでt検定を行うと"
   ]
  },
  {
   "cell_type": "code",
   "execution_count": 17,
   "metadata": {
    "colab": {
     "base_uri": "https://localhost:8080/",
     "height": 284
    },
    "executionInfo": {
     "elapsed": 32289,
     "status": "ok",
     "timestamp": 1635914146319,
     "user": {
      "displayName": "M I",
      "photoUrl": "https://lh3.googleusercontent.com/a-/AOh14Gjf2P7NqnnDxbSlDyx1B2ibhWHV7IKbmdvRA4dOFA=s64",
      "userId": "13599803303708223691"
     },
     "user_tz": -540
    },
    "id": "pqb1XAkuLWiG",
    "outputId": "1c31d74f-ea9f-4095-d186-f6cbcb0ecd15"
   },
   "outputs": [
    {
     "data": {
      "image/png": "[encoded data removed]",
      "text/plain": [
       "<Figure size 432x288 with 1 Axes>"
      ]
     },
     "metadata": {
      "needs_background": "light"
     },
     "output_type": "display_data"
    },
    {
     "name": "stdout",
     "output_type": "stream",
     "text": [
      "偽陽性率:  0.03993\n"
     ]
    }
   ],
   "source": [
    "# 正規性の仮定が満たされないときのp値の分布\n",
    "# p≒0.3あたりにピークが来る、外れ値に影響されやすいサンプルでよく見るパターン\n",
    "\n",
    "\n",
    "np.random.seed(seed=0)\n",
    "\n",
    "\n",
    "test_results = [\n",
    "  scipy.stats.ttest_ind(\n",
    "        np.random.lognormal(mean=0, sigma=1, size=30), \n",
    "        np.random.lognormal(mean=0, sigma=1, size=30), \n",
    "        equal_var=False\n",
    "      ).pvalue\n",
    "  for _ in range(100000)\n",
    "  ]\n",
    "\n",
    "plt.hist(test_results, range=(0,1), bins=20, density=True, color=\"gray\")\n",
    "plt.show()\n",
    "\n",
    "print(\"偽陽性率: \", len([p for p in test_results if p < 0.05]) / len(test_results))\n",
    "  "
   ]
  },
  {
   "cell_type": "markdown",
   "metadata": {
    "id": "YX1zSe0m5-gK"
   },
   "source": [
    "## 3.4 パラメトリックブートストラップ検定"
   ]
  },
  {
   "cell_type": "code",
   "execution_count": 18,
   "metadata": {
    "id": "GXEgRSUrQ_jl"
   },
   "outputs": [],
   "source": [
    "\n",
    "# パラメトリックブートストラップ\n",
    "\n",
    "def lognormal_bootstrap_sampling_mean(samples, bootstrap_sample_size):\n",
    "  mean = np.mean(np.log(samples))\n",
    "  sigma = np.std(np.log(samples), ddof=1)\n",
    "  n = len(samples)\n",
    "  return np.array([np.mean(np.random.lognormal(mean=mean, sigma=sigma, size=n)) \n",
    "                   for _ in range(bootstrap_sample_size)])\n",
    "\n",
    "\n",
    "def lognormal_bootstrap_test(samples_a, samples_b, bootstrap_sample_size=2000):\n",
    "  bootstrap_mean_a = lognormal_bootstrap_sampling_mean(samples_a, bootstrap_sample_size)\n",
    "  bootstrap_mean_b = lognormal_bootstrap_sampling_mean(samples_b, bootstrap_sample_size)\n",
    "  bootstrap_deltas = bootstrap_mean_b - bootstrap_mean_a\n",
    "  bootstrap_deltas_win = len([d for d in bootstrap_deltas if d>0])\n",
    "  bootstrap_deltas_lose = len([d for d in bootstrap_deltas if d<0])\n",
    "  # bootstrapの勝率は片側検定にあたる\n",
    "  # そのため両側検定でのp値は頻度が小さい側の割合*2となる\n",
    "  p_value = min(bootstrap_deltas_win, bootstrap_deltas_lose) / (bootstrap_deltas_win + bootstrap_deltas_lose) * 2\n",
    "  return p_value\n",
    "\n"
   ]
  },
  {
   "cell_type": "code",
   "execution_count": 19,
   "metadata": {
    "colab": {
     "base_uri": "https://localhost:8080/",
     "height": 318
    },
    "executionInfo": {
     "elapsed": 722098,
     "status": "ok",
     "timestamp": 1635914868946,
     "user": {
      "displayName": "M I",
      "photoUrl": "https://lh3.googleusercontent.com/a-/AOh14Gjf2P7NqnnDxbSlDyx1B2ibhWHV7IKbmdvRA4dOFA=s64",
      "userId": "13599803303708223691"
     },
     "user_tz": -540
    },
    "id": "vtRBClwx6dul",
    "outputId": "a0afa534-c7e2-42a8-8d31-09c6d2880b29"
   },
   "outputs": [
    {
     "data": {
      "image/png": "[encoded data removed]",
      "text/plain": [
       "<Figure size 432x288 with 1 Axes>"
      ]
     },
     "metadata": {
      "needs_background": "light"
     },
     "output_type": "display_data"
    },
    {
     "name": "stdout",
     "output_type": "stream",
     "text": [
      "偽陽性率:  0.0457\n",
      "CPU times: user 6min 20s, sys: 125 ms, total: 6min 20s\n",
      "Wall time: 6min 23s\n"
     ]
    }
   ],
   "source": [
    "%%time\n",
    "\n",
    "#  パラメトリックブートストラップ検定の帰無仮説におけるp値の分布\n",
    "\n",
    "np.random.seed(seed=0)\n",
    "\n",
    "\n",
    "test_results = [\n",
    "  lognormal_bootstrap_test(\n",
    "        np.random.lognormal(mean=0, sigma=1, size=30), \n",
    "        np.random.lognormal(mean=0, sigma=1, size=30), \n",
    "      )\n",
    "  for _ in range(10000)\n",
    "  ]\n",
    "\n",
    "plt.hist(test_results, range=(0,1), bins=20, density=True, color=\"gray\")\n",
    "plt.show()\n",
    "\n",
    "print(\"偽陽性率: \", len([p for p in test_results if p < 0.05]) / len(test_results))\n",
    "  \n"
   ]
  },
  {
   "cell_type": "code",
   "execution_count": 20,
   "metadata": {
    "colab": {
     "base_uri": "https://localhost:8080/"
    },
    "executionInfo": {
     "elapsed": 716046,
     "status": "ok",
     "timestamp": 1635915584980,
     "user": {
      "displayName": "M I",
      "photoUrl": "https://lh3.googleusercontent.com/a-/AOh14Gjf2P7NqnnDxbSlDyx1B2ibhWHV7IKbmdvRA4dOFA=s64",
      "userId": "13599803303708223691"
     },
     "user_tz": -540
    },
    "id": "jqL8Q2dECctC",
    "outputId": "a8fee157-fbfe-48da-f8c9-d6fd59faba1a"
   },
   "outputs": [
    {
     "name": "stdout",
     "output_type": "stream",
     "text": [
      "検出力:  0.3362\n",
      "CPU times: user 6min 27s, sys: 203 ms, total: 6min 27s\n",
      "Wall time: 6min 30s\n"
     ]
    }
   ],
   "source": [
    "%%time\n",
    "\n",
    "# パラメトリックブートストラップ検定の検出力\n",
    "\n",
    "np.random.seed(seed=0)\n",
    "\n",
    "\n",
    "test_results = [\n",
    "  lognormal_bootstrap_test(\n",
    "        np.random.lognormal(mean=0, sigma=1, size=30), \n",
    "        np.random.lognormal(mean=0.5, sigma=1, size=30), \n",
    "      )\n",
    "  for _ in range(10000)\n",
    "  ]\n",
    "\n",
    "print(\"検出力: \", len([p for p in test_results if p < 0.05]) / len(test_results))\n",
    "  \n"
   ]
  },
  {
   "cell_type": "code",
   "execution_count": 21,
   "metadata": {
    "colab": {
     "base_uri": "https://localhost:8080/"
    },
    "executionInfo": {
     "elapsed": 2320,
     "status": "ok",
     "timestamp": 1635915587283,
     "user": {
      "displayName": "M I",
      "photoUrl": "https://lh3.googleusercontent.com/a-/AOh14Gjf2P7NqnnDxbSlDyx1B2ibhWHV7IKbmdvRA4dOFA=s64",
      "userId": "13599803303708223691"
     },
     "user_tz": -540
    },
    "id": "oUJLR0vgCvza",
    "outputId": "bff4ac2c-6fa5-410a-bf99-201038322b42"
   },
   "outputs": [
    {
     "name": "stdout",
     "output_type": "stream",
     "text": [
      "検出力:  0.4795\n"
     ]
    }
   ],
   "source": [
    "\n",
    "# 対数正規分布のパラメトリックブートストラップ検定の検出力がt検定と比較してどうなのか\n",
    "# 厳密には検定しているものが違うため、対等な比較ではない\n",
    "\n",
    "np.random.seed(seed=0)\n",
    "\n",
    "\n",
    "test_results = [\n",
    "  scipy.stats.ttest_ind(\n",
    "        np.random.normal(loc=0, scale=1, size=30), \n",
    "        np.random.normal(loc=0.5, scale=1, size=30), \n",
    "      ).pvalue\n",
    "  for _ in range(10000)\n",
    "  ]\n",
    "\n",
    "print(\"検出力: \", len([p for p in test_results if p < 0.05]) / len(test_results))\n",
    "  \n"
   ]
  },
  {
   "cell_type": "markdown",
   "metadata": {
    "id": "WM8kuF6c7Sv5"
   },
   "source": [
    "## 3.7 マンホイットニーのU検定"
   ]
  },
  {
   "cell_type": "code",
   "execution_count": 22,
   "metadata": {
    "colab": {
     "base_uri": "https://localhost:8080/",
     "height": 283
    },
    "executionInfo": {
     "elapsed": 3415,
     "status": "ok",
     "timestamp": 1635915590690,
     "user": {
      "displayName": "M I",
      "photoUrl": "https://lh3.googleusercontent.com/a-/AOh14Gjf2P7NqnnDxbSlDyx1B2ibhWHV7IKbmdvRA4dOFA=s64",
      "userId": "13599803303708223691"
     },
     "user_tz": -540
    },
    "id": "0DXR68PbMTvQ",
    "outputId": "2b94017c-4823-4533-cb36-fe87605d4d2d"
   },
   "outputs": [
    {
     "data": {
      "image/png": "[encoded data removed]",
      "text/plain": [
       "<Figure size 432x288 with 1 Axes>"
      ]
     },
     "metadata": {
      "needs_background": "light"
     },
     "output_type": "display_data"
    },
    {
     "name": "stdout",
     "output_type": "stream",
     "text": [
      "偽陽性率:  0.0512\n"
     ]
    }
   ],
   "source": [
    "\n",
    "# ノンパラメトリック検定のひとつ、U検定によって中央値検定を行う\n",
    "\n",
    "np.random.seed(seed=0)\n",
    "\n",
    "\n",
    "test_results = [\n",
    "  scipy.stats.mannwhitneyu(\n",
    "        np.random.lognormal(mean=0, sigma=1, size=30), \n",
    "        np.random.lognormal(mean=0, sigma=1, size=30), \n",
    "      ).pvalue * 2    # mannwhitneyuのp値は片側検定の値なので、両側検定にするためにp値を2倍にする\n",
    "  for _ in range(10000)\n",
    "  ]\n",
    "\n",
    "plt.hist(test_results, range=(0,1), bins=20, density=True, color=\"gray\")\n",
    "plt.show()\n",
    "\n",
    "print(\"偽陽性率: \", len([p for p in test_results if p < 0.05]) / len(test_results))\n",
    "  "
   ]
  },
  {
   "cell_type": "code",
   "execution_count": 23,
   "metadata": {
    "colab": {
     "base_uri": "https://localhost:8080/"
    },
    "executionInfo": {
     "elapsed": 2998,
     "status": "ok",
     "timestamp": 1635915593665,
     "user": {
      "displayName": "M I",
      "photoUrl": "https://lh3.googleusercontent.com/a-/AOh14Gjf2P7NqnnDxbSlDyx1B2ibhWHV7IKbmdvRA4dOFA=s64",
      "userId": "13599803303708223691"
     },
     "user_tz": -540
    },
    "id": "yjrT9BNMghWe",
    "outputId": "89091f82-4937-43de-dc9b-9d877aab2bff"
   },
   "outputs": [
    {
     "name": "stdout",
     "output_type": "stream",
     "text": [
      "検出力 0.5189\n"
     ]
    }
   ],
   "source": [
    "# U検定の検出力\n",
    "\n",
    "np.random.seed(seed=0)\n",
    "\n",
    "\n",
    "test_results = [\n",
    "  scipy.stats.mannwhitneyu(\n",
    "      np.random.normal(loc=5, scale=1, size=10), \n",
    "      np.random.normal(loc=4, scale=1, size=10),\n",
    "      ).pvalue * 2\n",
    "  for _ in range(10000)\n",
    "  ]\n",
    "\n",
    "print(\"検出力\", len([t for t in test_results if t < 0.05]) / len(test_results))\n"
   ]
  },
  {
   "cell_type": "code",
   "execution_count": 24,
   "metadata": {
    "colab": {
     "base_uri": "https://localhost:8080/",
     "height": 283
    },
    "executionInfo": {
     "elapsed": 2843,
     "status": "ok",
     "timestamp": 1635915596486,
     "user": {
      "displayName": "M I",
      "photoUrl": "https://lh3.googleusercontent.com/a-/AOh14Gjf2P7NqnnDxbSlDyx1B2ibhWHV7IKbmdvRA4dOFA=s64",
      "userId": "13599803303708223691"
     },
     "user_tz": -540
    },
    "id": "0sycs0lwrh7k",
    "outputId": "19cc15c0-8a33-4fb2-9392-bc88555b3fd9"
   },
   "outputs": [
    {
     "data": {
      "image/png": "[encoded data removed]",
      "text/plain": [
       "<Figure size 432x288 with 1 Axes>"
      ]
     },
     "metadata": {
      "needs_background": "light"
     },
     "output_type": "display_data"
    },
    {
     "name": "stdout",
     "output_type": "stream",
     "text": [
      "偽陽性率:  0.1036\n"
     ]
    }
   ],
   "source": [
    "\n",
    "# U検定も等分散性の仮定が必要で、それが満たされなかった時の影響はstudentのt検定よりもずっと大きい\n",
    "# こちらも参照\n",
    "# https://www.jstage.jst.go.jp/article/psj/advpub/0/advpub_30.006/_pdfs\n",
    "\n",
    "np.random.seed(seed=0)\n",
    "\n",
    "\n",
    "test_results = [\n",
    "  scipy.stats.mannwhitneyu(\n",
    "      np.random.normal(loc=5, scale=1, size=10), \n",
    "      np.random.normal(loc=5, scale=100, size=10), \n",
    "      ).pvalue * 2\n",
    "  for _ in range(10000)\n",
    "  ]\n",
    "\n",
    "plt.hist(test_results, range=(0,1), bins=20, density=True, color=\"gray\")\n",
    "plt.show()\n",
    "\n",
    "print(\"偽陽性率: \", len([p for p in test_results if p < 0.05]) / len(test_results))\n",
    "  "
   ]
  },
  {
   "cell_type": "code",
   "execution_count": 25,
   "metadata": {
    "colab": {
     "base_uri": "https://localhost:8080/",
     "height": 283
    },
    "executionInfo": {
     "elapsed": 8251,
     "status": "ok",
     "timestamp": 1635915605146,
     "user": {
      "displayName": "M I",
      "photoUrl": "https://lh3.googleusercontent.com/a-/AOh14Gjf2P7NqnnDxbSlDyx1B2ibhWHV7IKbmdvRA4dOFA=s64",
      "userId": "13599803303708223691"
     },
     "user_tz": -540
    },
    "id": "lzxpH-RyF1IM",
    "outputId": "caad885c-6249-48d4-ce0f-fd1f1495b0ac"
   },
   "outputs": [
    {
     "data": {
      "image/png": "[encoded data removed]",
      "text/plain": [
       "<Figure size 432x288 with 1 Axes>"
      ]
     },
     "metadata": {
      "needs_background": "light"
     },
     "output_type": "display_data"
    },
    {
     "name": "stdout",
     "output_type": "stream",
     "text": [
      "偽陽性率:  0.1057\n"
     ]
    }
   ],
   "source": [
    "\n",
    "# サンプル数が多くても不等分散におけるp値の分布は歪む\n",
    "\n",
    "np.random.seed(seed=0)\n",
    "\n",
    "\n",
    "test_results = [\n",
    "  scipy.stats.mannwhitneyu(\n",
    "      np.random.normal(loc=5, scale=1, size=1000), \n",
    "      np.random.normal(loc=5, scale=100, size=1000), \n",
    "      ).pvalue * 2\n",
    "  for _ in range(10000)\n",
    "  ]\n",
    "\n",
    "plt.hist(test_results, range=(0,1), bins=20, density=True, color=\"gray\")\n",
    "plt.show()\n",
    "\n",
    "print(\"偽陽性率: \", len([p for p in test_results if p < 0.05]) / len(test_results))\n",
    "  "
   ]
  },
  {
   "cell_type": "markdown",
   "metadata": {
    "id": "zQaD68Zq7rim"
   },
   "source": [
    "## 3.8 Brunner-Munzel検定"
   ]
  },
  {
   "cell_type": "code",
   "execution_count": 26,
   "metadata": {
    "colab": {
     "base_uri": "https://localhost:8080/",
     "height": 318
    },
    "executionInfo": {
     "elapsed": 6296,
     "status": "ok",
     "timestamp": 1635915611411,
     "user": {
      "displayName": "M I",
      "photoUrl": "https://lh3.googleusercontent.com/a-/AOh14Gjf2P7NqnnDxbSlDyx1B2ibhWHV7IKbmdvRA4dOFA=s64",
      "userId": "13599803303708223691"
     },
     "user_tz": -540
    },
    "id": "xlukJNDMRi0l",
    "outputId": "7c72946e-f62b-4bf2-a989-dd6be3b82af0"
   },
   "outputs": [
    {
     "data": {
      "image/png": "[encoded data removed]",
      "text/plain": [
       "<Figure size 432x288 with 1 Axes>"
      ]
     },
     "metadata": {
      "needs_background": "light"
     },
     "output_type": "display_data"
    },
    {
     "name": "stdout",
     "output_type": "stream",
     "text": [
      "偽陽性率:  0.0529\n",
      "CPU times: user 3.36 s, sys: 15.6 ms, total: 3.38 s\n",
      "Wall time: 3.36 s\n"
     ]
    }
   ],
   "source": [
    "%%time\n",
    "# Brunner-Munzel\n",
    "\n",
    "np.random.seed(seed=0)\n",
    "\n",
    "\n",
    "test_results = [\n",
    "  scipy.stats.brunnermunzel(\n",
    "        np.random.lognormal(mean=0, sigma=1, size=30), \n",
    "        np.random.lognormal(mean=0, sigma=10, size=30), \n",
    "      ).pvalue\n",
    "  for _ in range(10000)\n",
    "  ]\n",
    "\n",
    "plt.hist(test_results, range=(0,1), bins=20, density=True, color=\"gray\")\n",
    "plt.show()\n",
    "\n",
    "print(\"偽陽性率: \", len([p for p in test_results if p < 0.05]) / len(test_results))"
   ]
  },
  {
   "cell_type": "code",
   "execution_count": 27,
   "metadata": {
    "colab": {
     "base_uri": "https://localhost:8080/"
    },
    "executionInfo": {
     "elapsed": 4427,
     "status": "ok",
     "timestamp": 1635915615790,
     "user": {
      "displayName": "M I",
      "photoUrl": "https://lh3.googleusercontent.com/a-/AOh14Gjf2P7NqnnDxbSlDyx1B2ibhWHV7IKbmdvRA4dOFA=s64",
      "userId": "13599803303708223691"
     },
     "user_tz": -540
    },
    "id": "v_pTRzWISUl3",
    "outputId": "7b16fc01-16fe-4610-c288-a2fd11a32abc"
   },
   "outputs": [
    {
     "name": "stderr",
     "output_type": "stream",
     "text": [
      "/home/default/.local/lib/python3.8/site-packages/scipy/stats/stats.py:6791: RuntimeWarning: divide by zero encountered in double_scalars\n",
      "  wbfn /= (nx + ny) * np.sqrt(nx * Sx + ny * Sy)\n",
      "/home/default/.local/lib/python3.8/site-packages/scipy/stats/stats.py:6797: RuntimeWarning: invalid value encountered in double_scalars\n",
      "  df = df_numer / df_denom\n"
     ]
    },
    {
     "name": "stdout",
     "output_type": "stream",
     "text": [
      "検出力:  0.5621\n"
     ]
    }
   ],
   "source": [
    "\n",
    "# Brunner-Munzelの正規分布に対する検出力\n",
    "\n",
    "np.random.seed(seed=0)\n",
    "\n",
    "\n",
    "test_results = [\n",
    "  scipy.stats.brunnermunzel(\n",
    "      np.random.normal(loc=5, scale=1, size=10), \n",
    "      np.random.normal(loc=4, scale=1, size=10),\n",
    "      ).pvalue\n",
    "  for _ in range(10000)\n",
    "  ]\n",
    "\n",
    "print(\"検出力: \", len([p for p in test_results if p < 0.05]) / len(test_results))\n",
    "  "
   ]
  },
  {
   "cell_type": "code",
   "execution_count": 28,
   "metadata": {
    "colab": {
     "base_uri": "https://localhost:8080/"
    },
    "executionInfo": {
     "elapsed": 5534,
     "status": "ok",
     "timestamp": 1635915621283,
     "user": {
      "displayName": "M I",
      "photoUrl": "https://lh3.googleusercontent.com/a-/AOh14Gjf2P7NqnnDxbSlDyx1B2ibhWHV7IKbmdvRA4dOFA=s64",
      "userId": "13599803303708223691"
     },
     "user_tz": -540
    },
    "id": "krPYkj6HCaiU",
    "outputId": "38285a1b-b009-4d9b-a39e-4e89ff132429"
   },
   "outputs": [
    {
     "name": "stdout",
     "output_type": "stream",
     "text": [
      "検出力:  0.4681\n"
     ]
    }
   ],
   "source": [
    "\n",
    "# Brunner-Munzelの対数正規分布に対する検出力\n",
    "\n",
    "np.random.seed(seed=0)\n",
    "\n",
    "\n",
    "test_results = [\n",
    "  scipy.stats.brunnermunzel(\n",
    "        np.random.lognormal(mean=0, sigma=1, size=30), \n",
    "        np.random.lognormal(mean=0.5, sigma=1, size=30), \n",
    "      ).pvalue\n",
    "  for _ in range(10000)\n",
    "  ]\n",
    "  \n",
    "print(\"検出力: \", len([p for p in test_results if p < 0.05]) / len(test_results))\n",
    "  \n"
   ]
  },
  {
   "cell_type": "markdown",
   "metadata": {
    "id": "WRqwcHL1f5Bp"
   },
   "source": [
    "## 3.9 Q. ノンパラメトリックブートストラップは正規性の仮定が満たされないサンプルに有効か？\n",
    "\n"
   ]
  },
  {
   "cell_type": "code",
   "execution_count": 29,
   "metadata": {
    "id": "-fK_YZ_ziIiT"
   },
   "outputs": [],
   "source": [
    "\n",
    "# ノンパラメトリックブートストラップ平均値検定の実装\n",
    "\n",
    "def nonparametric_bootstrap_sampling_mean(samples, bootstrap_sample_size):\n",
    "  return np.array([np.mean(np.random.choice(samples, size=len(samples))) \n",
    "                   for _ in range(bootstrap_sample_size)])\n",
    "\n",
    "\n",
    "def nonparametric_bootstrap_test(samples_a, samples_b, bootstrap_sample_size=2000):\n",
    "  bootstrap_mean_a = nonparametric_bootstrap_sampling_mean(samples_a, bootstrap_sample_size)\n",
    "  bootstrap_mean_b = nonparametric_bootstrap_sampling_mean(samples_b, bootstrap_sample_size)\n",
    "  bootstrap_deltas = bootstrap_mean_b - bootstrap_mean_a\n",
    "  bootstrap_deltas_win = len([d for d in bootstrap_deltas if d>0])\n",
    "  bootstrap_deltas_lose = len([d for d in bootstrap_deltas if d<0])\n",
    "  # bootstrapの勝率は片側検定にあたる\n",
    "  # そのため両側検定でのp値は頻度が小さい側の割合*2となる\n",
    "  p_value = min(bootstrap_deltas_win, bootstrap_deltas_lose) / (bootstrap_deltas_win + bootstrap_deltas_lose) * 2\n",
    "  return p_value\n",
    "\n"
   ]
  },
  {
   "cell_type": "code",
   "execution_count": 30,
   "metadata": {
    "colab": {
     "base_uri": "https://localhost:8080/",
     "height": 318
    },
    "executionInfo": {
     "elapsed": 107025,
     "status": "ok",
     "timestamp": 1635915728251,
     "user": {
      "displayName": "M I",
      "photoUrl": "https://lh3.googleusercontent.com/a-/AOh14Gjf2P7NqnnDxbSlDyx1B2ibhWHV7IKbmdvRA4dOFA=s64",
      "userId": "13599803303708223691"
     },
     "user_tz": -540
    },
    "id": "QPG56HToYFTq",
    "outputId": "77cd299f-df7e-4e83-ffa0-c085ff2710da"
   },
   "outputs": [
    {
     "data": {
      "image/png": "[encoded data removed]",
      "text/plain": [
       "<Figure size 432x288 with 1 Axes>"
      ]
     },
     "metadata": {
      "needs_background": "light"
     },
     "output_type": "display_data"
    },
    {
     "name": "stdout",
     "output_type": "stream",
     "text": [
      "偽陽性率:  0.066\n",
      "CPU times: user 1min 21s, sys: 234 ms, total: 1min 21s\n",
      "Wall time: 1min 21s\n"
     ]
    }
   ],
   "source": [
    "%%time\n",
    "\n",
    "# size=30程度だと偏る\n",
    "\n",
    "np.random.seed(seed=0)\n",
    "\n",
    "\n",
    "test_results = [\n",
    "  nonparametric_bootstrap_test(\n",
    "        np.random.lognormal(mean=0, sigma=1, size=30), \n",
    "        np.random.lognormal(mean=0, sigma=1, size=30), \n",
    "      )\n",
    "  for _ in range(1000)\n",
    "  ]\n",
    "\n",
    "plt.hist(test_results, range=(0,1), bins=20, density=True, color=\"gray\")\n",
    "plt.show()\n",
    "\n",
    "print(\"偽陽性率: \", len([p for p in test_results if p < 0.05]) / len(test_results))\n",
    "  \n"
   ]
  },
  {
   "cell_type": "code",
   "execution_count": 31,
   "metadata": {
    "colab": {
     "background_save": true
    },
    "id": "W4hbjsY6-9Lk",
    "outputId": "e509ac86-130c-4eb4-eb69-964521697554"
   },
   "outputs": [
    {
     "data": {
      "image/png": "[encoded data removed]",
      "text/plain": [
       "<Figure size 432x288 with 1 Axes>"
      ]
     },
     "metadata": {
      "needs_background": "light"
     },
     "output_type": "display_data"
    },
    {
     "name": "stdout",
     "output_type": "stream",
     "text": [
      "偽陽性率:  0.047\n",
      "CPU times: user 1min 41s, sys: 93.8 ms, total: 1min 41s\n",
      "Wall time: 1min 42s\n"
     ]
    }
   ],
   "source": [
    "%%time\n",
    "\n",
    "# size=1000であれば偏りは抑制できる\n",
    "\n",
    "np.random.seed(seed=0)\n",
    "\n",
    "\n",
    "test_results = [\n",
    "  nonparametric_bootstrap_test(\n",
    "        np.random.lognormal(mean=0, sigma=1, size=300), \n",
    "        np.random.lognormal(mean=0, sigma=1, size=300), \n",
    "      )\n",
    "  for _ in range(1000)\n",
    "  ]\n",
    "\n",
    "plt.hist(test_results, range=(0,1), bins=20, density=True, color=\"gray\")\n",
    "plt.show()\n",
    "\n",
    "print(\"偽陽性率: \", len([p for p in test_results if p < 0.05]) / len(test_results))\n",
    "  "
   ]
  },
  {
   "cell_type": "code",
   "execution_count": 32,
   "metadata": {
    "colab": {
     "background_save": true
    },
    "id": "S8D-lTwm_H3o",
    "outputId": "95f49077-4d0c-45a8-9518-b2b561a15955"
   },
   "outputs": [
    {
     "data": {
      "image/png": "[encoded data removed]",
      "text/plain": [
       "<Figure size 432x288 with 1 Axes>"
      ]
     },
     "metadata": {
      "needs_background": "light"
     },
     "output_type": "display_data"
    },
    {
     "name": "stdout",
     "output_type": "stream",
     "text": [
      "偽陽性率:  0.0459\n"
     ]
    }
   ],
   "source": [
    "# ただしsize=1000ならt検定でもかなり偏りは抑制される\n",
    "\n",
    "np.random.seed(seed=0)\n",
    "\n",
    "\n",
    "test_results = [\n",
    "  scipy.stats.ttest_ind(\n",
    "        np.random.lognormal(mean=0, sigma=1, size=300), \n",
    "        np.random.lognormal(mean=0, sigma=1, size=300), \n",
    "        equal_var=False\n",
    "      ).pvalue\n",
    "  for _ in range(10000)\n",
    "  ]\n",
    "\n",
    "plt.hist(test_results, range=(0,1), bins=20, density=True, color=\"gray\")\n",
    "plt.show()\n",
    "\n",
    "print(\"偽陽性率: \", len([p for p in test_results if p < 0.05]) / len(test_results))\n",
    "  "
   ]
  },
  {
   "cell_type": "markdown",
   "metadata": {
    "id": "QJd7mptWPpfK"
   },
   "source": [
    "# 4. 独立同分布の仮定\n",
    "- 基本的にはミクロ平均マクロ平均で見直すべき\n",
    "- ただしミクロ平均での検定を行う場合はデルタ法やブートストラップという方法もある。"
   ]
  },
  {
   "cell_type": "markdown",
   "metadata": {
    "id": "dYvnL-r28T3N"
   },
   "source": [
    "## 4.2 独立同分布でないデータでt検定を行うと"
   ]
  },
  {
   "cell_type": "code",
   "execution_count": 33,
   "metadata": {
    "colab": {
     "background_save": true
    },
    "id": "hYGaa8ubIXsE"
   },
   "outputs": [],
   "source": [
    "# それぞれのサンプルから複数回測定する、という実験を考える\n",
    "# それぞれのサンプルに潜在的な測定の期待値が存在し、実際の測定値はその値を中心とする正規分布からサンプリングされる、というシミュレーションをする\n",
    "\n",
    "# 特に断りがない限り、sample_sizeは10個とし、測定回数の期待値は3回とする\n",
    "def not_iid_sampling(loc, scale=1,  sample_size=10, measurement_size_binomial_n=30, measurement_size_p=0.1):\n",
    "  # 個体ごとの期待値は正規分布から行う\n",
    "  samples_latent_avg = np.random.normal(loc=loc, scale=scale, size=sample_size)\n",
    "  # 個体ごとの測定回数は二項分布から決める\n",
    "  # なお最低1回計測するため1を足している\n",
    "  samples_measurement_size = np.random.binomial(n=measurement_size_binomial_n, p=measurement_size_p, size=sample_size)+1\n",
    "  # 上記に従ってサンプリングを行う\n",
    "  apparent_samples = [np.random.normal(loc=avg, scale=scale, size=size) for avg, size in zip(samples_latent_avg, samples_measurement_size)]\n",
    "\n",
    "  return apparent_samples\n"
   ]
  },
  {
   "cell_type": "code",
   "execution_count": 34,
   "metadata": {
    "colab": {
     "background_save": true
    },
    "id": "Sa2xEdq5DVMm",
    "outputId": "b9f381fc-864b-4f0d-b52f-26b3629a6765"
   },
   "outputs": [
    {
     "data": {
      "image/png": "[encoded data removed]",
      "text/plain": [
       "<Figure size 432x288 with 1 Axes>"
      ]
     },
     "metadata": {
      "needs_background": "light"
     },
     "output_type": "display_data"
    },
    {
     "name": "stdout",
     "output_type": "stream",
     "text": [
      "偽陽性率:  0.2497\n"
     ]
    }
   ],
   "source": [
    "\n",
    "# 独立同分布の仮定が満たされない場合に\n",
    "# もし各測定値を単純なサンプルとみなしてt検定をすると\n",
    "\n",
    "np.random.seed(seed=0)\n",
    "\n",
    "\n",
    "test_results = [\n",
    "  scipy.stats.ttest_ind(\n",
    "      list(itertools.chain.from_iterable(not_iid_sampling(5))),\n",
    "      list(itertools.chain.from_iterable(not_iid_sampling(5))),\n",
    "      equal_var=False\n",
    "      ).pvalue\n",
    "  for _ in range(10000)\n",
    "]\n",
    "\n",
    "plt.hist(test_results, range=(0,1), bins=20, density=True, color=\"gray\")\n",
    "plt.show()\n",
    "\n",
    "print(\"偽陽性率: \", len([p for p in test_results if p < 0.05]) / len(test_results))"
   ]
  },
  {
   "cell_type": "markdown",
   "metadata": {
    "id": "tfovCJjQ8lTR"
   },
   "source": [
    "## 4.3 ミクロ平均がダメならマクロ平均を使えばいいじゃない"
   ]
  },
  {
   "cell_type": "code",
   "execution_count": 35,
   "metadata": {
    "colab": {
     "background_save": true
    },
    "id": "bjs9_KV8PiPi",
    "outputId": "4b3949df-b7d7-4b96-a79a-207ad8c74f9e"
   },
   "outputs": [
    {
     "data": {
      "image/png": "[encoded data removed]",
      "text/plain": [
       "<Figure size 432x288 with 1 Axes>"
      ]
     },
     "metadata": {
      "needs_background": "light"
     },
     "output_type": "display_data"
    },
    {
     "name": "stdout",
     "output_type": "stream",
     "text": [
      "偽陽性率:  0.0501\n"
     ]
    }
   ],
   "source": [
    "\n",
    "\n",
    "# ユーザごとに平均を取る\n",
    "# マクロ平均となる。\n",
    "\n",
    "np.random.seed(seed=0)\n",
    "\n",
    "\n",
    "test_results = [\n",
    "  scipy.stats.ttest_ind(\n",
    "      [np.mean(sample) for sample in not_iid_sampling(5)],\n",
    "      [np.mean(sample) for sample in not_iid_sampling(5)],\n",
    "      equal_var=False\n",
    "      ).pvalue\n",
    "  for _ in range(10000)\n",
    "  ]\n",
    "\n",
    "plt.hist(test_results, range=(0,1), bins=20, density=True, color=\"gray\")\n",
    "plt.show()\n",
    "\n",
    "print(\"偽陽性率: \", len([p for p in test_results if p < 0.05]) / len(test_results))"
   ]
  },
  {
   "cell_type": "code",
   "execution_count": 36,
   "metadata": {
    "colab": {
     "background_save": true
    },
    "id": "anGJ642PTPLb",
    "outputId": "8af4d65b-d939-44ea-ecc1-7ae85b38c6a4"
   },
   "outputs": [
    {
     "name": "stdout",
     "output_type": "stream",
     "text": [
      "検出力:  0.4542\n"
     ]
    }
   ],
   "source": [
    "# ユーザごと集計の検出力を見てみる\n",
    "\n",
    "np.random.seed(seed=0)\n",
    "\n",
    "\n",
    "test_results = [\n",
    "  scipy.stats.ttest_ind(\n",
    "      [np.mean(sample) for sample in not_iid_sampling(5)],\n",
    "      [np.mean(sample) for sample in not_iid_sampling(4)],\n",
    "      equal_var=False\n",
    "      ).pvalue\n",
    "  for _ in range(10000)\n",
    "  ]\n",
    "\n",
    "print(\"検出力: \", len([p for p in test_results if p < 0.05]) / len(test_results))"
   ]
  },
  {
   "cell_type": "markdown",
   "metadata": {
    "id": "0FnpdFOy8t9b"
   },
   "source": [
    "## 4.4 デルタ法による標準偏差の推定\n"
   ]
  },
  {
   "cell_type": "code",
   "execution_count": 37,
   "metadata": {
    "id": "htjxu_2pKaa1"
   },
   "outputs": [],
   "source": [
    "\n",
    "# 統計量からt検定を行う関数\n",
    "\n",
    "@dataclass\n",
    "class Stats:\n",
    "  mean: float\n",
    "  stderr: float\n",
    "  n: int\n",
    "\n",
    "# t検定を統計量から行う\n",
    "# 自由度はstudentのt検定の自由度を踏襲しているが本当はwelchのt自由度を使う必要がある\n",
    "# 実際にはp値への影響はほとんどない\n",
    "def ttest_from_stats(stats_a: Stats, stats_b: Stats):\n",
    "  signal_noize = abs(stats_a.mean - stats_b.mean) / np.sqrt(stats_a.stderr ** 2 + stats_b.stderr ** 2)\n",
    "  p_value = scipy.stats.t.sf(x=signal_noize, df=stats_a.n+stats_b.n-2) * 2\n",
    "  return p_value\n"
   ]
  },
  {
   "cell_type": "code",
   "execution_count": 38,
   "metadata": {
    "id": "3wlk8a6pFNMj"
   },
   "outputs": [],
   "source": [
    "# デルタ法\n",
    "\n",
    "\n",
    "def delta_var(sums, sizes):\n",
    "  return ((np.var(sums, ddof=1) / np.mean(sizes)**2) \n",
    "              + (np.var(sizes, ddof=1) * np.mean(sums)**2 / np.mean(sizes)**4) \n",
    "              - 2 * (np.mean(sums) / np.mean(sizes)**3 * np.cov(sums, sizes))[0,1])\n",
    "\n",
    "\n",
    "def delta_stats(samples) -> Stats:\n",
    "  mean = np.mean(list(itertools.chain.from_iterable(samples)))\n",
    "  var = delta_var([np.sum(s) for s in samples], [len(s) for s in samples])\n",
    "  n = len(samples)\n",
    "  stderr = np.sqrt(var / n)\n",
    "  return Stats(mean=mean, stderr=stderr, n=n)\n"
   ]
  },
  {
   "cell_type": "code",
   "execution_count": 39,
   "metadata": {
    "colab": {
     "background_save": true
    },
    "id": "mPqFTuFwUkUV",
    "outputId": "a1a0740e-ae39-4e91-d330-c39777d89ab9"
   },
   "outputs": [
    {
     "data": {
      "image/png": "[encoded data removed]",
      "text/plain": [
       "<Figure size 432x288 with 1 Axes>"
      ]
     },
     "metadata": {
      "needs_background": "light"
     },
     "output_type": "display_data"
    },
    {
     "name": "stdout",
     "output_type": "stream",
     "text": [
      "偽陽性率:  0.0586\n"
     ]
    }
   ],
   "source": [
    "\n",
    "# 近似している分、若干偽陽性が高くなる場合がある\n",
    "\n",
    "np.random.seed(seed=0)\n",
    "\n",
    "\n",
    "test_results = [\n",
    "  ttest_from_stats(\n",
    "        delta_stats(not_iid_sampling(5)), \n",
    "        delta_stats(not_iid_sampling(5))\n",
    "      )\n",
    "  for _ in range(10000)\n",
    "  ]\n",
    "\n",
    "plt.hist(test_results, range=(0,1), bins=20, density=True, color=\"gray\")\n",
    "plt.show()\n",
    "\n",
    "print(\"偽陽性率: \", len([p for p in test_results if p < 0.05]) / len(test_results))"
   ]
  },
  {
   "cell_type": "code",
   "execution_count": 40,
   "metadata": {
    "colab": {
     "background_save": true
    },
    "id": "iTdwmjBoT4Od",
    "outputId": "dca6a247-a113-4d59-f6df-6a68de609bf1"
   },
   "outputs": [
    {
     "name": "stdout",
     "output_type": "stream",
     "text": [
      "検出力:  0.4535\n"
     ]
    }
   ],
   "source": [
    "# デルタ法の検出力\n",
    "# ミクロ平均は外れ値に弱いので注意\n",
    "\n",
    "\n",
    "np.random.seed(seed=0)\n",
    "\n",
    "\n",
    "test_results = [\n",
    "  ttest_from_stats(\n",
    "        delta_stats(not_iid_sampling(5)), \n",
    "        delta_stats(not_iid_sampling(4))\n",
    "      )\n",
    "  for _ in range(10000)\n",
    "  ]\n",
    "  \n",
    "print(\"検出力: \", len([p for p in test_results if p < 0.05]) / len(test_results))\n"
   ]
  },
  {
   "cell_type": "markdown",
   "metadata": {
    "id": "xx_skGLR9Mob"
   },
   "source": [
    "## 4.5 ブートストラップ標本統計値を用いたt検定"
   ]
  },
  {
   "cell_type": "code",
   "execution_count": 41,
   "metadata": {
    "colab": {
     "background_save": true
    },
    "id": "TnR11vgdm3lC"
   },
   "outputs": [],
   "source": [
    "\n",
    " # ブートストラップによる経験分布の平均と分散を採用する。\n",
    "# ブートストラップのサンプルは独立同分布のものを採用する。今回のケースでは各測定ではなく各サンプルに対してランダムサンプリングを行う\n",
    "\n",
    "# どうしても母集団でなく標本集団から抽出しているので、片よりは生じてしまう。ddof=1でも解決はしない\n",
    "# こういう傾向があることを踏まえ、実験的にどの程度偏るかを把握して、その分p値は計算値より大きめに見る必要はある\n",
    "\n",
    "# np.random.choiceは復元抽出\n",
    "def bootstrap_micro_average(samples):\n",
    "  bootstrap_sample = np.random.choice(samples, size=len(samples))\n",
    "  return np.mean(list(itertools.chain.from_iterable(bootstrap_sample)))\n",
    "\n",
    "\n",
    "# bootstrapサンプリング回数は50回とする\n",
    "# bootstrapのサンプルで出した分散はサンプル全体の平均値の分散＝標準誤差であるため、nで割る必要はない\n",
    "# 自由度はnとする\n",
    "def bootstrap_stats(samples, bootstrap_sampling_size=100) -> Stats:\n",
    "  bootstrap_micro_averages = [bootstrap_micro_average(samples) for _ in range(bootstrap_sampling_size)]\n",
    "  bootstrap_mean = np.mean(bootstrap_micro_averages)\n",
    "  bootstrap_stderr = np.sqrt(np.var(bootstrap_micro_averages, ddof=1))\n",
    "  bootstrap_n = len(samples)\n",
    "  return Stats(mean=bootstrap_mean, stderr=bootstrap_stderr, n=bootstrap_n)\n",
    "\n"
   ]
  },
  {
   "cell_type": "code",
   "execution_count": 42,
   "metadata": {
    "colab": {
     "background_save": true
    },
    "id": "v2t1SvQjVB1L",
    "outputId": "c6cc5f54-eb6b-40a6-f137-4b59a1d44a5f"
   },
   "outputs": [
    {
     "name": "stderr",
     "output_type": "stream",
     "text": [
      "/tmp/ipykernel_21025/3941351521.py:9: VisibleDeprecationWarning: Creating an ndarray from ragged nested sequences (which is a list-or-tuple of lists-or-tuples-or ndarrays with different lengths or shapes) is deprecated. If you meant to do this, you must specify 'dtype=object' when creating the ndarray\n",
      "  bootstrap_sample = np.random.choice(samples, size=len(samples))\n"
     ]
    },
    {
     "data": {
      "image/png": "[encoded data removed]",
      "text/plain": [
       "<Figure size 432x288 with 1 Axes>"
      ]
     },
     "metadata": {
      "needs_background": "light"
     },
     "output_type": "display_data"
    },
    {
     "name": "stdout",
     "output_type": "stream",
     "text": [
      "偽陽性率:  0.069\n",
      "CPU times: user 8.03 s, sys: 15.6 ms, total: 8.05 s\n",
      "Wall time: 8.05 s\n"
     ]
    }
   ],
   "source": [
    "%%time\n",
    "\n",
    "np.random.seed(seed=0)\n",
    "\n",
    "\n",
    "test_results = [\n",
    "  ttest_from_stats(\n",
    "        bootstrap_stats(not_iid_sampling(5)), \n",
    "        bootstrap_stats(not_iid_sampling(5))\n",
    "      )\n",
    "  for _ in range(1000)\n",
    "  ]\n",
    "\n",
    "plt.hist(test_results, range=(0,1), bins=20, density=True, color=\"gray\")\n",
    "plt.show()\n",
    "\n",
    "print(\"偽陽性率: \", len([p for p in test_results if p < 0.05]) / len(test_results))"
   ]
  },
  {
   "cell_type": "code",
   "execution_count": 43,
   "metadata": {
    "colab": {
     "background_save": true
    },
    "id": "0dghlO1F0qv6",
    "outputId": "253dd7fd-01e0-4f8d-fd9a-8e85b4ee8cdc"
   },
   "outputs": [
    {
     "name": "stderr",
     "output_type": "stream",
     "text": [
      "/tmp/ipykernel_21025/3941351521.py:9: VisibleDeprecationWarning: Creating an ndarray from ragged nested sequences (which is a list-or-tuple of lists-or-tuples-or ndarrays with different lengths or shapes) is deprecated. If you meant to do this, you must specify 'dtype=object' when creating the ndarray\n",
      "  bootstrap_sample = np.random.choice(samples, size=len(samples))\n"
     ]
    },
    {
     "data": {
      "image/png": "[encoded data removed]",
      "text/plain": [
       "<Figure size 432x288 with 1 Axes>"
      ]
     },
     "metadata": {
      "needs_background": "light"
     },
     "output_type": "display_data"
    },
    {
     "name": "stdout",
     "output_type": "stream",
     "text": [
      "偽陽性率:  0.053\n"
     ]
    }
   ],
   "source": [
    "# サンプルサイズが多ければブートストラップ検定の結果は安定する\n",
    "\n",
    "np.random.seed(seed=0)\n",
    "\n",
    "\n",
    "test_results = [\n",
    "  ttest_from_stats(\n",
    "        bootstrap_stats(not_iid_sampling(5, sample_size=100)), \n",
    "        bootstrap_stats(not_iid_sampling(5, sample_size=100))\n",
    "      )\n",
    "  for _ in range(1000)\n",
    "  ]\n",
    "  \n",
    "plt.hist(test_results, range=(0,1), bins=20, density=True, color=\"gray\")\n",
    "plt.show()\n",
    "\n",
    "print(\"偽陽性率: \", len([p for p in test_results if p < 0.05]) / len(test_results))"
   ]
  },
  {
   "cell_type": "code",
   "execution_count": 44,
   "metadata": {
    "colab": {
     "background_save": true
    },
    "id": "YaaHf8ZeGOXp",
    "outputId": "5208d5b5-5400-4205-d478-5e92ef1f9866"
   },
   "outputs": [
    {
     "name": "stderr",
     "output_type": "stream",
     "text": [
      "/tmp/ipykernel_21025/3941351521.py:9: VisibleDeprecationWarning: Creating an ndarray from ragged nested sequences (which is a list-or-tuple of lists-or-tuples-or ndarrays with different lengths or shapes) is deprecated. If you meant to do this, you must specify 'dtype=object' when creating the ndarray\n",
      "  bootstrap_sample = np.random.choice(samples, size=len(samples))\n"
     ]
    },
    {
     "name": "stdout",
     "output_type": "stream",
     "text": [
      "検出力:  0.473\n"
     ]
    }
   ],
   "source": [
    "# 検出力\n",
    "# 偽陽性率が高い設定のため、検出力も参考値となる\n",
    "\n",
    "np.random.seed(seed=0)\n",
    "\n",
    "\n",
    "test_results = [\n",
    "  ttest_from_stats(\n",
    "        bootstrap_stats(not_iid_sampling(5)), \n",
    "        bootstrap_stats(not_iid_sampling(4))\n",
    "      )\n",
    "  for _ in range(1000)\n",
    "  ]\n",
    "\n",
    "print(\"検出力: \", len([p for p in test_results if p < 0.05]) / len(test_results))"
   ]
  },
  {
   "cell_type": "markdown",
   "metadata": {
    "id": "T_NsIw1d9fVx"
   },
   "source": [
    "## 4.6 Q. ミクロ平均は正規分布か？"
   ]
  },
  {
   "cell_type": "code",
   "execution_count": 45,
   "metadata": {
    "colab": {
     "background_save": true
    },
    "id": "-QrSVtAmNn33",
    "outputId": "b28c8632-f63e-4a86-c04c-7a22f58110c7"
   },
   "outputs": [
    {
     "data": {
      "image/png": "[encoded data removed]",
      "text/plain": [
       "<Figure size 432x288 with 1 Axes>"
      ]
     },
     "metadata": {
      "needs_background": "light"
     },
     "output_type": "display_data"
    }
   ],
   "source": [
    "# デルタ法で導くミクロ平均は正規分布なのか？\n",
    "# 本設定ではいい感じに近似できた\n",
    "\n",
    "np.random.seed(seed=0)\n",
    "\n",
    "\n",
    "delta_micro_avgs = [delta_stats(not_iid_sampling(5)).mean for _ in range(10000)]\n",
    "\n",
    "plt.hist(delta_micro_avgs, bins=100, density=True, color=\"silver\")\n",
    "\n",
    "delta_micro_avgs_mean = np.mean(delta_micro_avgs)\n",
    "delta_micro_avgs_std = np.std(delta_micro_avgs)\n",
    "\n",
    "X = np.arange(4,6,0.01)\n",
    "Y = scipy.stats.norm.pdf(X, delta_micro_avgs_mean, delta_micro_avgs_std)\n",
    "plt.plot(X, Y, color=\"black\")\n",
    "\n",
    "plt.show()"
   ]
  },
  {
   "cell_type": "code",
   "execution_count": 46,
   "metadata": {
    "colab": {
     "background_save": true
    },
    "id": "E4_FKFGJX89y",
    "outputId": "989e972d-3f6a-4eed-d939-84deec962dc3"
   },
   "outputs": [
    {
     "data": {
      "image/png": "[encoded data removed]",
      "text/plain": [
       "<Figure size 432x288 with 1 Axes>"
      ]
     },
     "metadata": {
      "needs_background": "light"
     },
     "output_type": "display_data"
    },
    {
     "data": {
      "image/png": "[encoded data removed]",
      "text/plain": [
       "<Figure size 432x288 with 1 Axes>"
      ]
     },
     "metadata": {
      "needs_background": "light"
     },
     "output_type": "display_data"
    },
    {
     "data": {
      "image/png": "[encoded data removed]",
      "text/plain": [
       "<Figure size 432x288 with 1 Axes>"
      ]
     },
     "metadata": {
      "needs_background": "light"
     },
     "output_type": "display_data"
    }
   ],
   "source": [
    "# ケースによっては近似できない場合もある。\n",
    "# こういった確認も含めてAAテストが大事\n",
    "\n",
    "for scl in [0.1, 0.01, 0.001]:\n",
    "  np.random.seed(seed=0)\n",
    "  \n",
    "  a = np.random.normal(loc=1, scale=scl, size  = 100000)\n",
    "  b = np.random.normal(loc=1, scale=scl, size  = 100000)\n",
    "  delta_micro_avgs = b/a\n",
    "\n",
    "  delta_micro_avgs_mean = np.mean(delta_micro_avgs)\n",
    "  delta_micro_avgs_std = np.std(delta_micro_avgs)  \n",
    "\n",
    "  plt.hist(delta_micro_avgs, bins=100, range=(delta_micro_avgs_mean - delta_micro_avgs_std*3, delta_micro_avgs_mean + delta_micro_avgs_std*3), \n",
    "           density=True, color=\"silver\")\n",
    "  \n",
    "\n",
    "  X = np.arange(delta_micro_avgs_mean - delta_micro_avgs_std*3, delta_micro_avgs_mean + delta_micro_avgs_std*3, 0.0001)\n",
    "  Y = scipy.stats.norm.pdf(X, delta_micro_avgs_mean, delta_micro_avgs_std)\n",
    "  plt.plot(X, Y, color=\"black\")\n",
    "    \n",
    "  plt.xlim([delta_micro_avgs_mean - delta_micro_avgs_std*3,delta_micro_avgs_mean + delta_micro_avgs_std*3])\n",
    "  plt.title(f\"scale={scl}\")\n",
    "  plt.show()"
   ]
  },
  {
   "cell_type": "markdown",
   "metadata": {
    "id": "BW8Z-PR_ClWl"
   },
   "source": [
    "# Appendix\n",
    "- 実験で明示的な結果が出ず、本編採用をボツにした検証"
   ]
  },
  {
   "cell_type": "markdown",
   "metadata": {
    "id": "wDn5pghyhM-p"
   },
   "source": [
    "### マクロ平均とミクロ平均でみているものは同じか？\n",
    "→ 実験的にはあまり結論を付けられなさそう"
   ]
  },
  {
   "cell_type": "code",
   "execution_count": 47,
   "metadata": {
    "colab": {
     "background_save": true
    },
    "id": "g8K4mS0zhSCk",
    "outputId": "f0987404-3bd1-4887-fd0a-f9d3a695dac6"
   },
   "outputs": [
    {
     "name": "stdout",
     "output_type": "stream",
     "text": [
      "0.9983421725365537 0.999201307188801\n"
     ]
    }
   ],
   "source": [
    "def micro_avg(samples):\n",
    "  return np.mean(list(itertools.chain.from_iterable(samples)))\n",
    "\n",
    "def macro_avg(samples):\n",
    "  return np.mean([np.mean(s) for s in samples])\n",
    "\n",
    "samples = not_iid_sampling(1, sample_size=100000)\n",
    "\n",
    "print(micro_avg(samples), macro_avg(samples))\n",
    "  "
   ]
  },
  {
   "cell_type": "markdown",
   "metadata": {
    "id": "1-QkCKFfPYzu"
   },
   "source": [
    "### ブートストラップ中央値検定"
   ]
  },
  {
   "cell_type": "code",
   "execution_count": 48,
   "metadata": {
    "colab": {
     "background_save": true
    },
    "id": "hz_X3_mfPant",
    "outputId": "ffd246be-6073-4e9e-bea6-1065eb43f9d7"
   },
   "outputs": [
    {
     "name": "stdout",
     "output_type": "stream",
     "text": [
      "CPU times: user 0 ns, sys: 0 ns, total: 0 ns\n",
      "Wall time: 9.06 µs\n"
     ]
    }
   ],
   "source": [
    "%%time\n",
    "\n",
    "# もう一つのノンパラメトリック手法であるブートストラップ中央値検定を試す\n",
    "# が、何らかの偏りでうまく行かなかった...\n",
    "# このセルは没かも\n",
    "\n",
    "def bootstrap_median_delta(samples_a, samples_b):\n",
    "  bootstrap_sample_a = np.random.choice(samples_a, k=len(samples_a))\n",
    "  bootstrap_sample_b = np.random.choice(samples_b, k=len(samples_b))\n",
    "  return  np.median(bootstrap_sample_a) - np.median(bootstrap_sample_b)\n",
    "\n",
    "\n",
    "def bootstrap_median_test(samples_a, samples_b, bootstrap_sample_size=300):\n",
    "  bootstrap_deltas = [bootstrap_median_delta(samples_a, samples_b) for _ in range(bootstrap_sample_size)]\n",
    "  bootstrap_deltas_win = len([d for d in bootstrap_deltas if d>0])\n",
    "  bootstrap_deltas_lose = len([d for d in bootstrap_deltas if d<0])\n",
    "  # 両側検定でのp値は頻度が小さい側の割合*2にあたる\n",
    "  p_value = min(bootstrap_deltas_win, bootstrap_deltas_lose) / (bootstrap_deltas_win + bootstrap_deltas_lose) * 2\n",
    "  return p_value"
   ]
  },
  {
   "cell_type": "code",
   "execution_count": null,
   "metadata": {},
   "outputs": [],
   "source": []
  }
 ],
 "metadata": {
  "colab": {
   "collapsed_sections": [],
   "name": "C99.ipynb",
   "provenance": [],
   "toc_visible": true
  },
  "kernelspec": {
   "display_name": "Python 3 (ipykernel)",
   "language": "python",
   "name": "python3"
  },
  "language_info": {
   "codemirror_mode": {
    "name": "ipython",
    "version": 3
   },
   "file_extension": ".py",
   "mimetype": "text/x-python",
   "name": "python",
   "nbconvert_exporter": "python",
   "pygments_lexer": "ipython3",
   "version": "3.8.2"
  }
 },
 "nbformat": 4,
 "nbformat_minor": 1
}
